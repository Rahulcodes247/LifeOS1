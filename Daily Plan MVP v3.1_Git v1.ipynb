{
 "cells": [
  {
   "cell_type": "code",
   "execution_count": null,
   "id": "58400d0f-7493-43d9-aae3-65d3444ea564",
   "metadata": {},
   "outputs": [],
   "source": [
    "import openai\n",
    "from datetime import datetime, timedelta\n",
    "import pandas as pd"
   ]
  },
  {
   "cell_type": "code",
   "execution_count": null,
   "id": "92716e33-8372-4c6f-a44e-38f9d13244de",
   "metadata": {},
   "outputs": [],
   "source": [
    "pip install openai==0.28.0"
   ]
  },
  {
   "cell_type": "code",
   "execution_count": null,
   "id": "a7173b22-9313-4797-8697-b776b6d89158",
   "metadata": {},
   "outputs": [],
   "source": [
    "openai.api_key = \"your key\""
   ]
  },
  {
   "cell_type": "code",
   "execution_count": null,
   "id": "80ebe7fe-e33a-4528-bbaa-7906279cd589",
   "metadata": {},
   "outputs": [],
   "source": [
    "def generate_dynamic_questions(context, question_type):\n",
    "    \"\"\"\n",
    "    Generate a limited number (4-5) of critical questions using OpenAI based on the provided context and type.\n",
    "    \"\"\"\n",
    "    prompt = f\"\"\"\n",
    "    You are an expert daily planner assistant. Based on the following context, generate only 4-5 critical {question_type} questions \n",
    "    that are concise, high-level, and essential for creating or assessing a daily plan. Avoid redundant or overly detailed questions.\n",
    "    Context: {context}\n",
    "    \"\"\"\n",
    "    response = openai.ChatCompletion.create(\n",
    "        model=\"gpt-3.5 Turbo\",\n",
    "        messages=[\n",
    "            {\"role\": \"system\", \"content\": \"You are a helpful assistant specializing in creating and improving daily planners.\"},\n",
    "            {\"role\": \"user\", \"content\": prompt}\n",
    "        ]\n",
    "    )\n",
    "    return response.choices[0].message['content'].strip()"
   ]
  },
  {
   "cell_type": "code",
   "execution_count": null,
   "id": "d2177be2-fd74-40c2-ac84-072f04880d56",
   "metadata": {},
   "outputs": [],
   "source": [
    "def create_daily_plan(user_inputs):\n",
    "    \"\"\"\n",
    "    Create a detailed daily planner based on user inputs.\n",
    "    \"\"\"\n",
    "    prompt = f\"\"\"\n",
    "    The user has provided the following information about their priorities and preferences:\n",
    "    {user_inputs}\n",
    "\n",
    "    Create a structured daily plan in table format, organized by time and activity, ensuring it aligns with the user's priorities and preferences.\n",
    "    \"\"\"\n",
    "    response = openai.ChatCompletion.create(\n",
    "        model=\"gpt-3.5 Turbo\",\n",
    "        messages=[\n",
    "            {\"role\": \"system\", \"content\": \"You are a helpful assistant that creates personalized daily planners.\"},\n",
    "            {\"role\": \"user\", \"content\": prompt}\n",
    "        ]\n",
    "    )\n",
    "    return response.choices[0].message['content'].strip()"
   ]
  },
  {
   "cell_type": "markdown",
   "id": "f80a3d2c-b7a6-4632-918b-ea7858189744",
   "metadata": {},
   "source": [
    "def analyze_compliance(responses):\n",
    "    \"\"\"\n",
    "    Analyze the user's compliance with the daily plan and suggest improvements.\n",
    "    \"\"\"\n",
    "    prompt = f\"\"\"\n",
    "    The user has provided the following responses for today's plan compliance:\n",
    "    {responses}\n",
    "\n",
    "    Summarize their performance and suggest two key improvements for tomorrow.\n",
    "    \"\"\"\n",
    "    response = openai.ChatCompletion.create(\n",
    "        model=\"gpt-4\",\n",
    "        messages=[\n",
    "            {\"role\": \"system\", \"content\": \"You are a helpful assistant that helps users reflect on their day.\"},\n",
    "            {\"role\": \"user\", \"content\": prompt}\n",
    "        ]\n",
    "    )\n",
    "    return response.choices[0].message['content'].strip()"
   ]
  },
  {
   "cell_type": "code",
   "execution_count": null,
   "id": "c373512b-4778-4c4a-bb32-b383ceb5451f",
   "metadata": {},
   "outputs": [],
   "source": [
    "def main():\n",
    "    # Step 1: Define user context\n",
    "    context = \"\"\"\n",
    "    The user focuses on meditation, family time, office productivity, and personal development. \n",
    "    Their day starts at 7:30 AM and ends by 10:00 PM. Priorities include LifeOS, family time, and office work.\n",
    "    \"\"\"\n",
    "    print(\"\\nPlease answer the following questions to plan your day:\")\n",
    "\n",
    "    # Step 2: Generate and ask questions\n",
    "    questions = generate_dynamic_questions(context, \"planning\")\n",
    "    user_inputs = {}\n",
    "    for question in questions.split(\"\\n\"):\n",
    "        if question.strip():\n",
    "            answer = input(question + \" \")\n",
    "            user_inputs[question.strip()] = answer\n",
    "\n",
    "    # Step 3: Generate the initial daily plan\n",
    "    while True:\n",
    "        print(\"\\nCreating your daily planner...\")\n",
    "        daily_plan = create_daily_plan(user_inputs)\n",
    "        print(\"\\nHere is your daily planner:\")\n",
    "        print(daily_plan)\n",
    "\n",
    "        # Step 4: Ask if the plan is okay or needs changes\n",
    "        feedback = input(\"\\nIs this plan okay? If changes are required, type 'No' and specify the changes. Otherwise, type 'Yes': \")\n",
    "        if feedback.lower() == \"yes\":\n",
    "            print(\"\\nGreat! Your plan has been finalized.\")\n",
    "            break\n",
    "        else:\n",
    "            changes = input(\"Please specify the changes you want: \")\n",
    "            user_inputs[\"Additional Changes\"] = changes\n",
    "            print(\"\\nRegenerating the plan based on your changes...\")\n",
    "\n",
    "    # Step 5: Save the daily plan to a file (optional)\n",
    "    #df_plan = pd.DataFrame([daily_plan.split('\\n')])\n",
    "    #filename = f\"daily_plan_{datetime.now().strftime('%Y%m%d')}.csv\"\n",
    "    #df_plan.to_csv(filename, index=False, header=False)\n",
    "    #print(f\"\\nYour finalized daily plan has been saved as {filename}.\")\n",
    "\n",
    "if __name__ == \"__main__\":\n",
    "    main()\n"
   ]
  },
  {
   "cell_type": "markdown",
   "id": "02f89e58-86dd-4ad0-942e-15c6fe2ab43b",
   "metadata": {},
   "source": [
    "# Step 5: Collect compliance feedback questions\n",
    "    print(\"\\nAt the end of the day, please answer the following compliance questions:\")\n",
    "    compliance_questions = generate_dynamic_questions(context, \"compliance feedback\")\n",
    "    print(compliance_questions)\n",
    "\n",
    "    responses = {}\n",
    "    for question in compliance_questions.split('\\n'):\n",
    "        answer = input(f\"{question.strip()} \")\n",
    "        responses[question] = answer\n",
    "\n",
    "    # Step 6: Analyze compliance and suggest improvements\n",
    "    print(\"\\nAnalyzing your compliance and suggesting improvements...\")\n",
    "    feedback = analyze_compliance(responses)\n",
    "    print(\"\\nHere is your feedback and suggestions for improvement:\")\n",
    "    print(feedback)"
   ]
  }
 ],
 "metadata": {
  "kernelspec": {
   "display_name": "Python [conda env:base] *",
   "language": "python",
   "name": "conda-base-py"
  },
  "language_info": {
   "codemirror_mode": {
    "name": "ipython",
    "version": 3
   },
   "file_extension": ".py",
   "mimetype": "text/x-python",
   "name": "python",
   "nbconvert_exporter": "python",
   "pygments_lexer": "ipython3",
   "version": "3.12.7"
  }
 },
 "nbformat": 4,
 "nbformat_minor": 5
}
